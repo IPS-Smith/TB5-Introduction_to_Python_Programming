{
 "cells": [
  {
   "cell_type": "markdown",
   "id": "0ac37f88",
   "metadata": {},
   "source": [
    "# Linux basic commands - PLEASE COMPLETE THIS"
   ]
  },
  {
   "cell_type": "markdown",
   "id": "9d76a734",
   "metadata": {},
   "source": [
    "# Basics\n",
    "\n",
    "Using a command line interface is very different to using the Desktop etc on Windows or Mac OS in which one can click and drag icons about - the same can be achieved via the command line, but rather than clicking and dragging one must type commands directly into the terminal.\n",
    "\n",
    "This actually makes the command line more powerful (and once you are comfortable with it, a lot faster), as one is not restricted to simply what can be achieved with mouse clicks.\n",
    "\n",
    "In the practical later this week, you will bve using the Linux operating system. So before that, let'ts just go through some basics here.\n",
    "\n",
    "Firstly you are likley used to having files in folders. Well folders are simply icons for what 'directories'. In Linux you will deal with directories directly through the command line. Let's practice here.\n",
    "Here is a list of basic useful commands:\n",
    "\n",
    "Which directly am I in currently?\\\n",
    "**pwd**\n",
    "\n",
    "Which files and sub-dierctories are in my current directory?\\\n",
    "**ls**\n",
    "\n",
    "Move one directory above the one i am in.\\\n",
    "**cd ..**\n",
    "\n",
    "Move to the parent/home directory.\\\n",
    "**cd**\n",
    "\n",
    "mv to a sub-directory within my current directory\\\n",
    "**cd nameofsub-directory**\n",
    "\n",
    "rename a file eg a file called original.pdb to new.pdb\\\n",
    "**mv original.pdb to new.pdb**\n",
    "\n",
    "copy a file to a new name (this leaves you the first file as is, but also creates a duplicate with the new filename), eg copy a file called original.pdb to new.pdb\\\n",
    "**cp original.pdb new.pdb**\n",
    "\n",
    "Create a new blank file eg called newfile.txt\\\n",
    "**touch newfile.txt**\\\n",
    "\n",
    "\n",
    "Let's try some of these commands here in the jupyter notebook. \n",
    "To use bash commands here, you will need to add an exclamation mark(!) at the beginning of the command (you will not need to do that in a normal bash terminal).\n",
    " In the cell below list all the files in your current directory\n",
    "    \n",
    "    \n"
   ]
  },
  {
   "cell_type": "code",
   "execution_count": null,
   "id": "73a9b2e1",
   "metadata": {},
   "outputs": [],
   "source": []
  },
  {
   "cell_type": "markdown",
   "id": "6931b977",
   "metadata": {},
   "source": [
    "In the cell below type the commands needed to create a new file called 'myfile.txt'. Then create a copy of this file calles 'copyofmyfile.txt'"
   ]
  },
  {
   "cell_type": "code",
   "execution_count": null,
   "id": "385e3ac3",
   "metadata": {},
   "outputs": [],
   "source": []
  },
  {
   "cell_type": "markdown",
   "id": "a57a36b6",
   "metadata": {},
   "source": [
    "<font color='red'> **PLEASE MAKE A NOTE OF THESE COMMANDS - YOU WILL NEED THEM FOR THE PRACTICAL LATER IN THE WEEK**"
   ]
  },
  {
   "cell_type": "markdown",
   "id": "3fc8e845",
   "metadata": {},
   "source": [
    "# Python workshop"
   ]
  },
  {
   "cell_type": "markdown",
   "id": "17b28728",
   "metadata": {},
   "source": [
    "# Aims and objectives \n",
    "\n",
    "Learning how to fully use a programming language, especially for the first time, is a task which can easily take several months to achieve. Indeed, the Python programming language is rather vast and fully covering it would never be achievable within the timeframes allowed by this course. Instead this tutorial aims to offer a first impression on the basic concepts of Python programming. It is our hope that this will serve as an entry point towards further studies in both Python and other programming languages.\n",
    "The main objectives this tutorial covers are:\n",
    "1.\tUnderstanding how to execute Python code using Jupyter notebooks\n",
    "\n",
    "\n",
    "2.\tUnderstanding the basic Python object types\n",
    "\n",
    "\n",
    "3.\tUnderstanding how to use operators to assign and manipulate variables\n",
    "\n",
    "\n",
    "4.\tGaining basic insights on bult-in Python functions and how to import external modules\n",
    "\n",
    "\n",
    "5.\tUnderstanding how to use loops and conditionals to perform repetitive tasks\n"
   ]
  },
  {
   "cell_type": "markdown",
   "id": "082243a6",
   "metadata": {},
   "source": [
    "# Python programming - what and why?\n",
    "\n",
    "The Python programming language is a general-purpose interpreted object-orientated programming language which has existed for over 30 years.  Originally developed by Guido van Rossum, the language has matured over the years into a incredibly large ecosystem with millions of developers. Python is now under the care of the Python Software Foundation and usually has yearly releases of the Python programming language, comprising of new features and bug fixes, with the latest release being python 3.13. More information on Python and its development process can be found here: https://www.python.org/\n",
    "This short course concentrates solely on the use of the Python programming language. One could rightly ask why Python and not one of the hundreds of other programming languages that currently exist?\n",
    "There are several reasons as to why this choice was made:\n",
    "\n",
    "1.\tPython has over recent years become a commonly used tool by scientists looking to rapidly create, explore and analyse data. Many existing scientific tools either exist purely in Python or offer Python interfaces (for example [alphafold](https://github.com/deepmind/alphafold) or the biomolecular viewer [ChimeraX](https://www.cgl.ucsf.edu/chimerax/). It has therefore become important for many scientists to have a working understanding of how to use basic Python commands.\n",
    "\n",
    "\n",
    "2.\tPython is very flexible and easy to play with. In part due to its nature as an `interpreted language` (unlike languages like C++ and Fortran which are compiled language that require to be passed through a compiler before a computer can understand written code), it is easy to make modifications to code and directly see how it may affect outcomes. This does come at the cost of performance, with Python being slower than compiled languages, however there are many ways in which savvy programmers can go around this limitation.\n",
    "\n",
    "\n",
    "3.\tPython is portable, free to use and open-source. Unlike programming language such as Matlab it does not require a paid license to operate. It also works equally well on any operating system, be it; Linux, Windows or MacOS.\n",
    "\n",
    "\n",
    "4.\tPython comes with an incredibly large ecosystem with many software packages to extend its usage. We unfortunately won’t be touching upon this in this tutorial, but there are many ways to extend Python, with tools such as NumPy for scientific computing (https://numpy.org/), scikit-learn for machine learning (https://scikit-learn.org/stable/), and matplotlib for drawing figures (https://matplotlib.org/). These massively expand the base utility of the Python programming language, allowing for complex tools and packages to be written.\n",
    "\n",
    "\n",
    "That being said, this tutorial does not aim to advocate for one programming language over any other. Indeed, each programming language has its own advantage and disadvantages based on the intended use case. With most programming languages having very similar core components and concepts, we hope that this primer to Python programming will serve useful for whichever programming language you many end up using in the future.\n"
   ]
  },
  {
   "cell_type": "markdown",
   "id": "d58513c7",
   "metadata": {},
   "source": [
    "# License and Acknowledgements\n",
    "\n",
    "These tutorial materials are licensed under a [CC NY-NC 4.0 license](./README.md). The tutorial materials are primarily based on the contents of two other workshops, the [Oxford Computational Biochemistry Python Course](https://github.com/bigginlab/OxCompBio/tree/master/tutorials/Python) and [The Carpentries “Programming with Python” workshop](https://swcarpentry.github.io/python-novice-inflammation/). We thank and acknowledge the contributions of the authors from both of these workshops."
   ]
  },
  {
   "cell_type": "markdown",
   "id": "ed3ff2c0",
   "metadata": {},
   "source": [
    "# How to use this notebook\n",
    "\n",
    "In order to better demonstrate how the Python programming language works, we employ the use of Jupyter notebooks in this tutorial. [Jupyter notebooks](https://jupyter.org/) are a useful way to interactively demonstrate python code in a clear and organised manner, whilst avoiding the need to write out files. It also allows us to run python in the cloud using tools such as Google Colab or Binder (see “running these notebooks at home” below). In practice, one may need to write out code to a file and run them directly through the command line, how to do this will not be covered by this tutorial, but do ask a demonstrator for more information if you are interested!\n",
    "Jupyter notebooks are composed of a series of `cells` which can either contain text (such as this one) or code (which will usually have the words `In [ ]:` or just `[ ]:` next to them. You can type code in `cells` by clicking on them and typing whatever changes you want to make. Code cells can be used to run any valid Python code. To do this simply click on the cell and press the `Run` button on the toolbar above, or type `Shift + Enter`.\n",
    "Important note: All code executed is retained in the memory of the notebook. That means that if you `import` a module or declare a variable, these will be seen and can interact with code in cells executed at a later stage in other parts of the notebook. If things behave in a way that you do not expect, it is often worth checking that you did not declare a conflicting variable in another part of the notebook. If needs be the notebook can be cleared by navigating to `Kernel > Restart & Clear Output`, a further prompt will ask you if you wish to clear all outputs, pressing on this will return the notebook to a state where none of the cells have been run. When finished, a notebook should be shut down by clicking on `File > Close and Halt`.\n",
    "More information on using a Jupyter notebook (this is recommended pre-reading for the tutorial), can be found here: https://www.codecademy.com/article/how-to-use-jupyter-notebooks\n"
   ]
  },
  {
   "cell_type": "markdown",
   "id": "b99377cc",
   "metadata": {},
   "source": [
    "# Running the notebook from home\n",
    "\n",
    "Instructions on starting the tutorial notebook in the Biochemistry computer lab will be provided on the day. However, should you wish to run this notebook online from the convenience of your own computer, you can do so using either Google Colab or mybinder. Our recommendation would be to use Google Colab if possible, as it is directly supported by Google infrastructure and therefore runs a lot more reliably than mybinder (which operates on community donated server instances). That being said, Google Colab has a slightly different interface from conventional Jupyter notebooks, and therefore requires you to read through its [“getting started documentation”](https://colab.research.google.com/?utm_source=scs-index#scrollTo=-gE-Ez1qtyIA).\n",
    "\n",
    "__Links can be found here__\n",
    "\n",
    "Google colab notebook: https://colab.research.google.com/github/bigginlab/TB5-IntroductionToPython/blob/main/TB5-Introduction_to_Python_Programming.ipynb\n",
    "\n",
    "Google colab getting started documentation: https://colab.research.google.com/?utm_source=scs-index#scrollTo=-gE-Ez1qtyIA\n",
    "\n",
    "Mybinder notebook: https://mybinder.org/v2/gh/bigginlab/TB5-IntroductionToPython/HEAD"
   ]
  },
  {
   "cell_type": "markdown",
   "id": "90453c26",
   "metadata": {},
   "source": [
    "# 1. A first Python command\n",
    "\n",
    "Let’s start things off with executing our first Python command. In the cell below we will use `print` to write out “Hello World”. Try it out by clicking on the cell and pressing run in the toolbar above."
   ]
  },
  {
   "cell_type": "code",
   "execution_count": 5,
   "id": "ad43323c",
   "metadata": {},
   "outputs": [
    {
     "name": "stdout",
     "output_type": "stream",
     "text": [
      "Hello World\n"
     ]
    }
   ],
   "source": [
    "# A first Python command\n",
    "print(\"Hello World\")"
   ]
  },
  {
   "cell_type": "markdown",
   "id": "884522f3",
   "metadata": {},
   "source": [
    "There is a lot happening here which we will cover in later parts of the tutorial. In the first instance, let us just consider that `print` is a function which is offered by default in Python to print out text.\n",
    "The `print` function takes an input value (in this case some text, in quotation marks) and prints the text output (without quotation marks). One should note that Python is case-sensitive, i.e. we can’t use `Print` or `PRINT`.\n",
    "\n",
    "Despite its simplicity, `print` is a very powerful way to get a direct output from code, allowing us to interrogate how the code is progressing and see what values are being produced."
   ]
  },
  {
   "cell_type": "markdown",
   "id": "e351cf92",
   "metadata": {},
   "source": [
    "### A note on Python comments\n",
    "You will have noticed in the above code blocks the presence of the words `# A first Python command` and how it does not affect the notebook output. In Python, anything written after a `#` is considered to be a “comment”, that is to say that it is ignored by the Python interpreter and exists solely for the convenience of annotating code. It is generally considered good practice to comment your code in order to make it more readable for yourself and others. In this tutorial you will that we often place comments in code blocks in order to better communicate what should be happening."
   ]
  },
  {
   "cell_type": "markdown",
   "id": "81c55252",
   "metadata": {},
   "source": [
    "### Question 1\n",
    "In the cell below, use `print` to output the phrase “This is the second command”. Copy the working code line in canvas as your answer."
   ]
  },
  {
   "cell_type": "code",
   "execution_count": 6,
   "id": "58acf47c",
   "metadata": {},
   "outputs": [],
   "source": [
    "# Question 1"
   ]
  },
  {
   "cell_type": "markdown",
   "id": "d8f55d65",
   "metadata": {},
   "source": [
    "# 2. Basic Python types\n",
    "\n",
    "Python, being an object-orientated programming language, essentially works on the idea of manipulating various building blocks, which we call objects, in order to achieve a given outcome. Covering the philosophy of object-orientated programming and how objects work is beyond the scope of this tutorial. Here we will primarily look at the basic types of Python objects and how they work.\n",
    "Whilst each object is created dynamically, they all have what we call a `type` which defines how that object behaves.\n",
    "For example, the “Hello World” (introduced in the previous section) is a text based object, also known as a string.\n",
    "Object types include:\n",
    "\n",
    "1.\tIntegers (i.e. whole numbers, both positive and negative)\n",
    "\n",
    "\n",
    "2.\tFloats (i.e. decimal numbers)\n",
    "\n",
    "\n",
    "3.\tStrings (i.e. text)\n",
    "\n",
    "\n",
    "4.\tBoolean values (i.e. True or False)\n"
   ]
  },
  {
   "cell_type": "markdown",
   "id": "9581515f",
   "metadata": {},
   "source": [
    "## 2.1 Integers and floating points\n",
    "\n",
    "Integers are essentially represented as whole numbers in Python. They require no extra treatment."
   ]
  },
  {
   "cell_type": "code",
   "execution_count": 7,
   "id": "ba7370c4",
   "metadata": {},
   "outputs": [
    {
     "name": "stdout",
     "output_type": "stream",
     "text": [
      "10\n"
     ]
    }
   ],
   "source": [
    "# print the number 10\n",
    "print(10)"
   ]
  },
  {
   "cell_type": "markdown",
   "id": "95740d8c",
   "metadata": {},
   "source": [
    "Similarly a float (or floating point number) is just represented as a decimal:"
   ]
  },
  {
   "cell_type": "code",
   "execution_count": 8,
   "id": "4fdcc822",
   "metadata": {},
   "outputs": [
    {
     "name": "stdout",
     "output_type": "stream",
     "text": [
      "10.5\n"
     ]
    }
   ],
   "source": [
    "# print the float 10.5\n",
    "print(10.5)"
   ]
  },
  {
   "cell_type": "markdown",
   "id": "c231f037",
   "metadata": {},
   "source": [
    "Like using a calculator, you can perform arithmetic operations on integers and floats. You can add and substract using the `+` and `/` operators respectively:"
   ]
  },
  {
   "cell_type": "code",
   "execution_count": 9,
   "id": "8ab6a73e",
   "metadata": {},
   "outputs": [
    {
     "name": "stdout",
     "output_type": "stream",
     "text": [
      "6\n"
     ]
    }
   ],
   "source": [
    "print(2 + 4)"
   ]
  },
  {
   "cell_type": "code",
   "execution_count": 10,
   "id": "6bcd064f",
   "metadata": {},
   "outputs": [
    {
     "name": "stdout",
     "output_type": "stream",
     "text": [
      "2\n"
     ]
    }
   ],
   "source": [
    "print(5 - 3)"
   ]
  },
  {
   "cell_type": "markdown",
   "id": "3abf31bb",
   "metadata": {},
   "source": [
    "Note: the spacing between numbers and symbols usually does not matter, although using a single empty space around the operator does improve readability."
   ]
  },
  {
   "cell_type": "code",
   "execution_count": 11,
   "id": "21d4ed0a",
   "metadata": {},
   "outputs": [
    {
     "name": "stdout",
     "output_type": "stream",
     "text": [
      "-3\n"
     ]
    }
   ],
   "source": [
    "print(7-   10)"
   ]
  },
  {
   "cell_type": "markdown",
   "id": "dd1c1254",
   "metadata": {},
   "source": [
    "Multiplying and dividing can be achieved using `*` and `/` respectively."
   ]
  },
  {
   "cell_type": "code",
   "execution_count": 12,
   "id": "14d831a6",
   "metadata": {},
   "outputs": [
    {
     "name": "stdout",
     "output_type": "stream",
     "text": [
      "10\n"
     ]
    }
   ],
   "source": [
    "print(2 * 5)"
   ]
  },
  {
   "cell_type": "code",
   "execution_count": 13,
   "id": "3e88a2a1",
   "metadata": {},
   "outputs": [
    {
     "name": "stdout",
     "output_type": "stream",
     "text": [
      "1.3333333333333333\n"
     ]
    }
   ],
   "source": [
    "print(4 / 3)"
   ]
  },
  {
   "cell_type": "markdown",
   "id": "17b59a2b",
   "metadata": {},
   "source": [
    "As you can see above when dividing integers, a floating point type value will be returned. Similarly, when doing any operation between a float and integer, a float will be returned."
   ]
  },
  {
   "cell_type": "code",
   "execution_count": 14,
   "id": "0d19c396",
   "metadata": {},
   "outputs": [
    {
     "name": "stdout",
     "output_type": "stream",
     "text": [
      "6.0\n",
      "3.0\n",
      "2.5\n"
     ]
    }
   ],
   "source": [
    "print(2.0 * 3)\n",
    "print(4 - 1.0)\n",
    "print(2 + 0.5)"
   ]
  },
  {
   "cell_type": "markdown",
   "id": "30696808",
   "metadata": {},
   "source": [
    "In certain cases, you may wish to carry out integer division. This can be achieved using the `//` operator:"
   ]
  },
  {
   "cell_type": "code",
   "execution_count": 15,
   "id": "1c28efe9",
   "metadata": {},
   "outputs": [
    {
     "name": "stdout",
     "output_type": "stream",
     "text": [
      "0\n"
     ]
    }
   ],
   "source": [
    "print(2 // 3)"
   ]
  },
  {
   "cell_type": "markdown",
   "id": "50390424",
   "metadata": {},
   "source": [
    "### Question 2\n",
    "\n",
    "There are other Python arithmetic operators not covered here, what does `**` do? Try it out below and answer on canvas."
   ]
  },
  {
   "cell_type": "code",
   "execution_count": 16,
   "id": "0408c134",
   "metadata": {},
   "outputs": [],
   "source": [
    "# Question 2"
   ]
  },
  {
   "cell_type": "markdown",
   "id": "b1559b9c",
   "metadata": {},
   "source": [
    "### Question 3\n",
    "\n",
    "What about `%`? Try it out below and answer on canvas."
   ]
  },
  {
   "cell_type": "code",
   "execution_count": 17,
   "id": "4eca01c1",
   "metadata": {},
   "outputs": [],
   "source": [
    "# Question 3"
   ]
  },
  {
   "cell_type": "markdown",
   "id": "9700c4f0",
   "metadata": {},
   "source": [
    "## 2.2 Strings\n",
    "\n",
    "As mentioned above, strings are essentially representations of text. This text is contained within quotes."
   ]
  },
  {
   "cell_type": "code",
   "execution_count": 18,
   "id": "57684fd7",
   "metadata": {},
   "outputs": [
    {
     "name": "stdout",
     "output_type": "stream",
     "text": [
      "this is a string\n"
     ]
    }
   ],
   "source": [
    "print(\"this is a string\")"
   ]
  },
  {
   "cell_type": "markdown",
   "id": "24896563",
   "metadata": {},
   "source": [
    "Failing to encapsulate the string within quotes will prevent the Python interpreter from knowing that it is a string."
   ]
  },
  {
   "cell_type": "code",
   "execution_count": 19,
   "id": "fe7b5892",
   "metadata": {},
   "outputs": [
    {
     "ename": "SyntaxError",
     "evalue": "invalid syntax. Perhaps you forgot a comma? (3600629427.py, line 3)",
     "output_type": "error",
     "traceback": [
      "\u001b[0;36m  Cell \u001b[0;32mIn[19], line 3\u001b[0;36m\u001b[0m\n\u001b[0;31m    print(this is not a string)\u001b[0m\n\u001b[0m          ^\u001b[0m\n\u001b[0;31mSyntaxError\u001b[0m\u001b[0;31m:\u001b[0m invalid syntax. Perhaps you forgot a comma?\n"
     ]
    }
   ],
   "source": [
    "# NBVAL_RAISES_EXCEPTION\n",
    "## Note: ignore the above comment, this to allow us to test the notebook\n",
    "print(this is not a string)"
   ]
  },
  {
   "cell_type": "markdown",
   "id": "8f8efaf0",
   "metadata": {},
   "source": [
    "Question: do we have to use single quotes to indicate a string? Will double quotes (`””`) work as well?\n",
    "\n",
    "Answer: yes, single quotes, double quotes, and even triple quotes (i.e. `’’’something’’’` or `”””something”””`) tell Python that you want a string. When to use one or the other depends on what you are trying to do.\n",
    "You can also use double quotes within single quotes and the other way around:"
   ]
  },
  {
   "cell_type": "code",
   "execution_count": 20,
   "id": "681855fb",
   "metadata": {},
   "outputs": [
    {
     "name": "stdout",
     "output_type": "stream",
     "text": [
      "Single 'quotes' can be used within double quotes.\n",
      "Double \"quotes\" can be used within single quotes.\n"
     ]
    }
   ],
   "source": [
    "print(\"Single 'quotes' can be used within double quotes.\")\n",
    "print('Double \"quotes\" can be used within single quotes.')"
   ]
  },
  {
   "cell_type": "markdown",
   "id": "38b16d6d",
   "metadata": {},
   "source": [
    "### Question 4\n",
    "\n",
    "Like integers and floats, strings can be added and multiplied.\n",
    "What happens if you multiply the string “key” by 3? Try it out below and log your answer on canvas."
   ]
  },
  {
   "cell_type": "code",
   "execution_count": 21,
   "id": "914016bd",
   "metadata": {},
   "outputs": [],
   "source": [
    "# Question 4"
   ]
  },
  {
   "cell_type": "markdown",
   "id": "3923c6cf",
   "metadata": {},
   "source": [
    "### Question 5\n",
    "\n",
    "There are some types of operations that don’t work on some objects. What happens if you try to instead divide “key” by 3? Try it out below and log your answer on canvas."
   ]
  },
  {
   "cell_type": "code",
   "execution_count": 22,
   "id": "c76d628b",
   "metadata": {},
   "outputs": [],
   "source": [
    "# Question 5"
   ]
  },
  {
   "cell_type": "markdown",
   "id": "e08f1e9b",
   "metadata": {},
   "source": [
    "## 2.3 Booleans\n",
    "\n",
    "The last basic Python object type is the Boolean. Named after George Boole, these object are used to represent “truth” and either take the form `True` or `False`."
   ]
  },
  {
   "cell_type": "code",
   "execution_count": 23,
   "id": "086d41b5",
   "metadata": {},
   "outputs": [
    {
     "name": "stdout",
     "output_type": "stream",
     "text": [
      "True\n",
      "False\n"
     ]
    }
   ],
   "source": [
    "print(True)\n",
    "print(False)"
   ]
  },
  {
   "cell_type": "markdown",
   "id": "9ab3d16d",
   "metadata": {},
   "source": [
    "On their own Boolean objects are very little meaning, but combined with “relational operators” they can be very powerful tools.\n",
    "For example to compare if a number is greater than another:"
   ]
  },
  {
   "cell_type": "code",
   "execution_count": 24,
   "id": "3a21004a",
   "metadata": {},
   "outputs": [
    {
     "data": {
      "text/plain": [
       "False"
      ]
     },
     "execution_count": 24,
     "metadata": {},
     "output_type": "execute_result"
    }
   ],
   "source": [
    "# The greater than operator\n",
    "1 > 2"
   ]
  },
  {
   "cell_type": "markdown",
   "id": "d27b76c2",
   "metadata": {},
   "source": [
    "In general, there are 6 relational operators for comparisons:\n",
    "1.\t`>` (greater than)\n",
    "2.\t`<` (less than)\n",
    "3.\t`>=` (greater than or equal to)\n",
    "4.\t`<=` (less than or equal to)\n",
    "5.\t`!=` (not equal to)\n",
    "6.\t`==` (equal to)\n",
    "\n",
    "Using these to compare objects will always return a Boolean object."
   ]
  },
  {
   "cell_type": "code",
   "execution_count": 25,
   "id": "f43b1c1b",
   "metadata": {},
   "outputs": [
    {
     "name": "stdout",
     "output_type": "stream",
     "text": [
      "True\n"
     ]
    }
   ],
   "source": [
    "print(\"dog\" != \"cat\")"
   ]
  },
  {
   "cell_type": "code",
   "execution_count": 26,
   "id": "f43ee894",
   "metadata": {},
   "outputs": [
    {
     "name": "stdout",
     "output_type": "stream",
     "text": [
      "False\n"
     ]
    }
   ],
   "source": [
    "print(1.5 == 2.5)"
   ]
  },
  {
   "cell_type": "markdown",
   "id": "d90ddbec",
   "metadata": {},
   "source": [
    "## 2.4 Seeing types\n",
    "\n",
    "It is possible to interrogate the type of an object using the `type` command in Python.\n",
    "This can be useful when trying to keep track of what is contained within a variable (see next section)."
   ]
  },
  {
   "cell_type": "code",
   "execution_count": 27,
   "id": "d9bbb9f8",
   "metadata": {},
   "outputs": [
    {
     "name": "stdout",
     "output_type": "stream",
     "text": [
      "<class 'float'>\n"
     ]
    }
   ],
   "source": [
    "print(type(1.5))"
   ]
  },
  {
   "cell_type": "markdown",
   "id": "db26daea",
   "metadata": {},
   "source": [
    "You’ll notice that the output for the above is `<class ‘float’>`. In Python `classes` are synonymous with `objects`."
   ]
  },
  {
   "cell_type": "markdown",
   "id": "0564314c",
   "metadata": {},
   "source": [
    "### Question 6\n",
    "\n",
    "What is the type of `print`? Try it out below and answer on canvas."
   ]
  },
  {
   "cell_type": "code",
   "execution_count": 28,
   "id": "b14fa203",
   "metadata": {},
   "outputs": [],
   "source": [
    "# Question 6"
   ]
  },
  {
   "cell_type": "markdown",
   "id": "e0c961f3",
   "metadata": {},
   "source": [
    "# 3. Variables\n",
    "\n",
    "Up to this point we have purely looked at how we can directly interact with Python objects. This can be quite useful for basic arithmetic, but the practical applications are limited. To do anything useful with the data we have, we need to assign its value to a _variable_.\n",
    "In Python, we can assign a value to a variable using the equals sign `=`. This is called an assignment statement and it associates a variable name (on the left of the equal sign) with a given object (on the right of the equal sign). For example, we could record the weight of a person by assigning the variable `weight_kg` as shown below:\n"
   ]
  },
  {
   "cell_type": "code",
   "execution_count": 29,
   "id": "173a568d",
   "metadata": {},
   "outputs": [
    {
     "name": "stdout",
     "output_type": "stream",
     "text": [
      "60\n"
     ]
    }
   ],
   "source": [
    "weight_kg = 60\n",
    "print(weight_kg)"
   ]
  },
  {
   "cell_type": "markdown",
   "id": "a5308430",
   "metadata": {},
   "source": [
    "With this, we can then do further manipulations (as we have done in the previous section):"
   ]
  },
  {
   "cell_type": "code",
   "execution_count": 30,
   "id": "df10356c",
   "metadata": {},
   "outputs": [
    {
     "name": "stdout",
     "output_type": "stream",
     "text": [
      "132.2772\n"
     ]
    }
   ],
   "source": [
    "weight_pounds = weight_kg * 2.20462\n",
    "print(weight_pounds)"
   ]
  },
  {
   "cell_type": "markdown",
   "id": "8d276447",
   "metadata": {},
   "source": [
    "You can be as creative as you like when it comes to giving names to variables, however you need to keep in mind the following:\n",
    "1.\tYou cannot have a space in a variable name (i.e. `many numbers` would not work)\n",
    "2.\tVariables are case-sensitive (i.e. `Pi` is different from `pi`)\n",
    "3.\tVariables cannot start with a number (i.e. `1number` is not acceptable but `numb3r` would be)\n",
    "\n",
    "**Important note**: A very frequent mistake is to mix up the use of the `==` comparison operator with the variable assignment operator `=`. It is important to remember that they do different things."
   ]
  },
  {
   "cell_type": "markdown",
   "id": "1fcd6e89",
   "metadata": {},
   "source": [
    "### Question 7\n",
    "\n",
    "What type does the variable `weight_pounds` above have? Try it out here and answer on canvas."
   ]
  },
  {
   "cell_type": "code",
   "execution_count": 31,
   "id": "fd86b996",
   "metadata": {},
   "outputs": [],
   "source": [
    "# Question 7"
   ]
  },
  {
   "cell_type": "markdown",
   "id": "8927977d",
   "metadata": {},
   "source": [
    "# 4. Lists\n",
    "\n",
    "Sometimes it is useful to work with a collection of objects, arranged in a specific order, rather than keeping track of lots of variables. A `list` is one of the ways in which this can be achieved in Python.\n",
    "Note: there are other types of collections available in Python, such as `sets`, but these will not be covered here.\n"
   ]
  },
  {
   "cell_type": "markdown",
   "id": "154fa15f",
   "metadata": {},
   "source": [
    "## 4.1 Creating lists\n",
    "\n",
    "A list is constructed by putting together a series of objects separated by a commas and surrounded by square brackets. For example:"
   ]
  },
  {
   "cell_type": "code",
   "execution_count": 32,
   "id": "929356e6",
   "metadata": {},
   "outputs": [
    {
     "name": "stdout",
     "output_type": "stream",
     "text": [
      "<class 'list'>\n"
     ]
    }
   ],
   "source": [
    "exampleList = [1, 4, 5, 3, 2]\n",
    "print(type(exampleList))"
   ]
  },
  {
   "cell_type": "markdown",
   "id": "14df81c9",
   "metadata": {},
   "source": [
    "Note: lists items do not need to have the same type, `[1, 'one', 2, 'three']` is a perfectly acceptable list construction."
   ]
  },
  {
   "cell_type": "markdown",
   "id": "d3421baa",
   "metadata": {},
   "source": [
    "## 4.2 Accessing list items (aka indexing)\n",
    "\n",
    "You can retrieve entries in a `list` by specifying the index of the entry in the `list`. This is done by putting the index in square brackets after the name of the `list`.\n",
    "Counting in Python starts as zero, so to pick the first entry in a `list`, specify index 0.\n",
    "e.g.\n"
   ]
  },
  {
   "cell_type": "code",
   "execution_count": 33,
   "id": "6d103dae",
   "metadata": {},
   "outputs": [
    {
     "name": "stdout",
     "output_type": "stream",
     "text": [
      "1\n"
     ]
    }
   ],
   "source": [
    "exampleList = [1, 4, 5, 3, 2]\n",
    "\n",
    "# get the first entry\n",
    "print(exampleList[0])"
   ]
  },
  {
   "cell_type": "markdown",
   "id": "d575884c",
   "metadata": {},
   "source": [
    "To pick out the third entry:"
   ]
  },
  {
   "cell_type": "code",
   "execution_count": 34,
   "id": "4346ab53",
   "metadata": {},
   "outputs": [
    {
     "name": "stdout",
     "output_type": "stream",
     "text": [
      "5\n"
     ]
    }
   ],
   "source": [
    "print(exampleList[2])"
   ]
  },
  {
   "cell_type": "markdown",
   "id": "6f1ad239",
   "metadata": {},
   "source": [
    "You can also use negative numbers as indices, which start backwards from the end of the list. This is useful if you don’t know how long your list is, but want to pick, for example, the before last entry:"
   ]
  },
  {
   "cell_type": "code",
   "execution_count": 35,
   "id": "a541595d",
   "metadata": {},
   "outputs": [
    {
     "name": "stdout",
     "output_type": "stream",
     "text": [
      "3\n"
     ]
    }
   ],
   "source": [
    "print(exampleList[-2])"
   ]
  },
  {
   "cell_type": "markdown",
   "id": "3df44b00",
   "metadata": {},
   "source": [
    "### Question 8\n",
    "\n",
    "What happens if you try to pick out an entry that doesn’t exist, for example the tenth entry? Try it out below and answer on canvas."
   ]
  },
  {
   "cell_type": "code",
   "execution_count": 36,
   "id": "443c0986",
   "metadata": {},
   "outputs": [],
   "source": [
    "# Question 8"
   ]
  },
  {
   "cell_type": "markdown",
   "id": "1aa4e171",
   "metadata": {},
   "source": [
    "## 4.3 Changing specific entries in a list\n",
    "\n",
    "We can use list indexing to change the value of a particular entry in a list\n",
    "For example, to change the value of the second entry in `exampleList` we do:"
   ]
  },
  {
   "cell_type": "code",
   "execution_count": 37,
   "id": "eb5dd8ec",
   "metadata": {},
   "outputs": [
    {
     "name": "stdout",
     "output_type": "stream",
     "text": [
      "[1, 42, 5, 3, 2]\n"
     ]
    }
   ],
   "source": [
    "exampleList[1] = 42\n",
    "\n",
    "# print out the new values\n",
    "print(exampleList)"
   ]
  },
  {
   "cell_type": "markdown",
   "id": "5e9dec75",
   "metadata": {},
   "source": [
    "## 4.4 Some other common list operations\n",
    "\n",
    "Here are some other common lister operations you can do.\n",
    "\n",
    "### Finding the length of a list\n",
    "The `len` method can be used to find the length of a list:"
   ]
  },
  {
   "cell_type": "code",
   "execution_count": 38,
   "id": "55208484",
   "metadata": {},
   "outputs": [
    {
     "name": "stdout",
     "output_type": "stream",
     "text": [
      "[1, 42, 5, 3, 2]\n",
      "5\n"
     ]
    }
   ],
   "source": [
    "print(exampleList)\n",
    "\n",
    "# Get the length of the list\n",
    "print(len(exampleList))"
   ]
  },
  {
   "cell_type": "markdown",
   "id": "fd0ca3af",
   "metadata": {},
   "source": [
    "### Adding an extra item to a list\n",
    "You can “append” to a list by using the `list.append` method:"
   ]
  },
  {
   "cell_type": "code",
   "execution_count": 39,
   "id": "2188b5dd",
   "metadata": {},
   "outputs": [
    {
     "name": "stdout",
     "output_type": "stream",
     "text": [
      "[1, 42, 5, 3, 2]\n",
      "[1, 42, 5, 3, 2, 9]\n"
     ]
    }
   ],
   "source": [
    "print(exampleList)\n",
    "\n",
    "# Let’s add a 9 to the list\n",
    "exampleList.append(9)\n",
    "\n",
    "# print out the new list contents\n",
    "print(exampleList)"
   ]
  },
  {
   "cell_type": "markdown",
   "id": "1cf3ef80",
   "metadata": {},
   "source": [
    "### Sorting a list\n",
    "\n",
    "The built-in method `sorted` can be used to sort the elements in a list:"
   ]
  },
  {
   "cell_type": "code",
   "execution_count": 40,
   "id": "e65761b7",
   "metadata": {},
   "outputs": [
    {
     "name": "stdout",
     "output_type": "stream",
     "text": [
      "[1, 1, 2, 4, 4, 6, 7, 8, 9, 12]\n"
     ]
    }
   ],
   "source": [
    "unsortedList = [9,2,7,4,1,8,12,6,4,1]\n",
    "\n",
    "print(sorted(unsortedList))"
   ]
  },
  {
   "cell_type": "markdown",
   "id": "1afa0e9e",
   "metadata": {},
   "source": [
    "### Summing a list\n",
    "\n",
    "Similarly the built-in method `sum` can be used to add up the elements in a list:"
   ]
  },
  {
   "cell_type": "code",
   "execution_count": 41,
   "id": "632f2ea7",
   "metadata": {},
   "outputs": [
    {
     "name": "stdout",
     "output_type": "stream",
     "text": [
      "54\n"
     ]
    }
   ],
   "source": [
    "print(sum(unsortedList))"
   ]
  },
  {
   "cell_type": "markdown",
   "id": "05083668",
   "metadata": {},
   "source": [
    "### Converting a string to a list\n",
    "Strings can be considered to be a sequence of characters, it is therefore possible to convert a string into a list by calling `list` on it"
   ]
  },
  {
   "cell_type": "code",
   "execution_count": 42,
   "id": "77676fae",
   "metadata": {},
   "outputs": [
    {
     "name": "stdout",
     "output_type": "stream",
     "text": [
      "['A', 'C', 'A', 'A', 'T', 'G', 'C', 'G', 'A', 'T', 'A', 'C', 'G', 'T', 'A', 'T', 'T', 'T', 'G', 'C', 'G']\n"
     ]
    }
   ],
   "source": [
    "sequence = 'ACAATGCGATACGTATTTGCG'\n",
    "sequence_list = list(sequence)\n",
    "print(sequence_list)"
   ]
  },
  {
   "cell_type": "markdown",
   "id": "c99078fe",
   "metadata": {},
   "source": [
    "### Slicing a smaller list from an existing list\n",
    "\n",
    "This is more of an advance feature and we don’t expect it to be of much use within the context of this tutorial. However it is worth noting that you can “slice” the indices of a list. For example if you wanted to get the 2nd to the 4th entries in the previous `sequence_list` you could do:"
   ]
  },
  {
   "cell_type": "code",
   "execution_count": 43,
   "id": "284376f8",
   "metadata": {},
   "outputs": [
    {
     "name": "stdout",
     "output_type": "stream",
     "text": [
      "['C', 'A', 'A']\n"
     ]
    }
   ],
   "source": [
    "new_list = sequence_list[1:4]\n",
    "print(new_list)"
   ]
  },
  {
   "cell_type": "markdown",
   "id": "fa397d08",
   "metadata": {},
   "source": [
    "The list slicing construct is `list[start:end]` where `end` is the value of the last index we want + 1."
   ]
  },
  {
   "cell_type": "markdown",
   "id": "ad06da06",
   "metadata": {},
   "source": [
    "# 5. Using Functions\n",
    "\n",
    "In previous sections we have been frequently using Python functions such as `print`, `sum`, `sorted`, and `len`. Here we provide a little bit more context on them.\n",
    "Python functions are essentially methods that usually take a set of inputs and return a value in the form `f(x) -> y`.\n",
    "Up until now we have only encountered cases where functions have taken a single input, however there are some functions that take more than one. For example the `pow` function which returns the power of given numbers:\n"
   ]
  },
  {
   "cell_type": "code",
   "execution_count": 44,
   "id": "11fca35d",
   "metadata": {},
   "outputs": [
    {
     "name": "stdout",
     "output_type": "stream",
     "text": [
      "100\n"
     ]
    }
   ],
   "source": [
    "print(pow(10, 2))"
   ]
  },
  {
   "cell_type": "markdown",
   "id": "9ace2d14",
   "metadata": {},
   "source": [
    "Some functions also have arguments which are usually set by default but can be overridden. For example, the `sorted` function has an optional `reverse` argument which can allow you to reverse a sort."
   ]
  },
  {
   "cell_type": "code",
   "execution_count": 45,
   "id": "07478506",
   "metadata": {},
   "outputs": [
    {
     "name": "stdout",
     "output_type": "stream",
     "text": [
      "[12, 9, 8, 7, 6, 4, 4, 2, 1, 1]\n"
     ]
    }
   ],
   "source": [
    "unsortedList = [9,2,7,4,1,8,12,6,4,1]\n",
    "reverse_sorted = sorted(unsortedList, reverse=True)\n",
    "print(reverse_sorted)"
   ]
  },
  {
   "cell_type": "markdown",
   "id": "614e728b",
   "metadata": {},
   "source": [
    "You can inspect the type of arguments a function might take by calling `??` on the function in the following manner (click on the `x` to close the dialogue box after you have read the help message):"
   ]
  },
  {
   "cell_type": "code",
   "execution_count": 46,
   "id": "6ff299cd",
   "metadata": {},
   "outputs": [
    {
     "data": {
      "text/plain": [
       "\u001b[0;31mSignature:\u001b[0m \u001b[0msorted\u001b[0m\u001b[0;34m(\u001b[0m\u001b[0miterable\u001b[0m\u001b[0;34m,\u001b[0m \u001b[0;34m/\u001b[0m\u001b[0;34m,\u001b[0m \u001b[0;34m*\u001b[0m\u001b[0;34m,\u001b[0m \u001b[0mkey\u001b[0m\u001b[0;34m=\u001b[0m\u001b[0;32mNone\u001b[0m\u001b[0;34m,\u001b[0m \u001b[0mreverse\u001b[0m\u001b[0;34m=\u001b[0m\u001b[0;32mFalse\u001b[0m\u001b[0;34m)\u001b[0m\u001b[0;34m\u001b[0m\u001b[0;34m\u001b[0m\u001b[0m\n",
       "\u001b[0;31mDocstring:\u001b[0m\n",
       "Return a new list containing all items from the iterable in ascending order.\n",
       "\n",
       "A custom key function can be supplied to customize the sort order, and the\n",
       "reverse flag can be set to request the result in descending order.\n",
       "\u001b[0;31mType:\u001b[0m      builtin_function_or_method"
      ]
     },
     "metadata": {},
     "output_type": "display_data"
    }
   ],
   "source": [
    "sorted??"
   ]
  },
  {
   "cell_type": "markdown",
   "id": "29b75b6d",
   "metadata": {},
   "source": [
    "The contents of the printed help documents will offer insights on what options can be used."
   ]
  },
  {
   "cell_type": "markdown",
   "id": "a52df0f4",
   "metadata": {},
   "source": [
    "### Question 9\n",
    "\n",
    "Which of the following is not an optional keyword argument of `print`?\n",
    "\n",
    "1.\t`file`\n",
    "\n",
    "2.\t`newline`\n",
    "\n",
    "3.\t`sep`\n",
    "\n",
    "4.\t`end`\n",
    "\n",
    "Try it out below and answer on canvas."
   ]
  },
  {
   "cell_type": "code",
   "execution_count": 47,
   "id": "b0a25338",
   "metadata": {},
   "outputs": [],
   "source": [
    "# Question 9"
   ]
  },
  {
   "cell_type": "markdown",
   "id": "d97c3129",
   "metadata": {},
   "source": [
    "# 6. The `for` loop\n",
    "\n",
    "Sometimes when programming you might need to do repetitive tasks. For example, doing a given operation with an increasingly larger number. Python offers loops as a way to make your life easier and your code much smaller. Here we will be specifically looking at the use of `for` loops, there are other loops such as `while`, but they will not be covered in this tutorial.\n",
    "`for` loops take an _iterator statement_ and loops over it until the iteration is exhausted. To demonstrate this, we use the `range` function to generate an iterator of numbers:"
   ]
  },
  {
   "cell_type": "code",
   "execution_count": 48,
   "id": "0eabf369",
   "metadata": {},
   "outputs": [
    {
     "name": "stdout",
     "output_type": "stream",
     "text": [
      "1\n",
      "2\n",
      "3\n",
      "4\n",
      "5\n",
      "6\n",
      "7\n",
      "8\n",
      "9\n",
      "10\n"
     ]
    }
   ],
   "source": [
    "for number in range(1, 11):\n",
    "    print(number)"
   ]
  },
  {
   "cell_type": "markdown",
   "id": "ba44918a",
   "metadata": {},
   "source": [
    "Here `number in range(1, 11)` is the iterator statement which generates values of `number` progressively increasingly from 1 to 10 as the loop is executed. The iterator statement is terminated by passing a colon `:` at its end.\n",
    "*note*: the range goes to 11 but the loop stops at 10. This is something where Python is not very intuitive. If you define ranges, python will not include the last value in your range.\n",
    "The loop contents `print(number)` are specifically indented by 4 spaces. This tells the Python interpreter that anything that is indented by 4 spaces should be done each time the value of `number` increases.\n",
    "Keeping track of spaces is very important! Failing to indent or indenting with the wrong number of spaces will lead to accidental issues.\n",
    "\n",
    "\n",
    "### Using `for` loops with lists\n",
    "\n",
    "It is possible to use a `list` as part of the _iterator statement_ of a `for` loop.\n"
   ]
  },
  {
   "cell_type": "code",
   "execution_count": 49,
   "id": "ca186639",
   "metadata": {},
   "outputs": [
    {
     "name": "stdout",
     "output_type": "stream",
     "text": [
      "1\n",
      "3\n",
      "4\n",
      "8\n",
      "2\n"
     ]
    }
   ],
   "source": [
    "myList = [1, 3, 4, 8, 2]\n",
    "for item in myList:\n",
    "    print(item)"
   ]
  },
  {
   "cell_type": "markdown",
   "id": "62ca46ce",
   "metadata": {},
   "source": [
    "As shown above, the statement `for item in myList` assigns the next `myList` entry at each iteration of the `for` loop. This then allows us to print out all the elements in `myList`.\n",
    "It is possible to do more advanced things here, like creating new lists or appending new list items in a loop. For the sake of brevity these will not be covered here, but we do encourage you to play around with `for` loops and see what you can achieve."
   ]
  },
  {
   "cell_type": "markdown",
   "id": "5a899e90",
   "metadata": {},
   "source": [
    "# 7. `if` conditionals\n",
    "\n",
    "Decision making plays a key role in programming and Python provides the `if.. elif.. else` statement to achieve this."
   ]
  },
  {
   "cell_type": "markdown",
   "id": "616541e1",
   "metadata": {},
   "source": [
    "## 7.1 The `if` statement\n",
    "\n",
    "The `if` statement is used to check if a condition is fulfilled and then a task (or set of tasks) is executed. The following example shows how it could be used to check if a number if even:"
   ]
  },
  {
   "cell_type": "code",
   "execution_count": 50,
   "id": "ba53bd80",
   "metadata": {},
   "outputs": [
    {
     "name": "stdout",
     "output_type": "stream",
     "text": [
      "number is even\n"
     ]
    }
   ],
   "source": [
    "number = 2\n",
    "\n",
    "if number % 2 == 0:\n",
    "    print(\"number is even\")"
   ]
  },
  {
   "cell_type": "markdown",
   "id": "d98e1eb3",
   "metadata": {},
   "source": [
    "The operator `%` is called the modulus and gives the remainder of an integer division (see section on object types). The _conditional expression_ follows directly after the word `if` and ends with a colon `:` (just as in the syntax for loops). The task(s) to be executed in case the condition is `True`, are then provided (indented by 4 spaces – see previous section on for loops). In this case it is a print statement telling us that the number if even. Note that if the condition is not `True`, the task is simply not executed."
   ]
  },
  {
   "cell_type": "code",
   "execution_count": null,
   "id": "a16872b2",
   "metadata": {},
   "outputs": [],
   "source": [
    "number = 3\n",
    "\n",
    "if number % 2 == 0:\n",
    "    print(\"number is even\")"
   ]
  },
  {
   "cell_type": "markdown",
   "id": "a8b416ea",
   "metadata": {},
   "source": [
    "## 7.2 The `if.. else` statement\n",
    "\n",
    "An `else` statement can be combined with an `if` statement. An `else` statement contains the block of code that is executed if the conditional expression in the `if` statement resolves as `False`."
   ]
  },
  {
   "cell_type": "code",
   "execution_count": null,
   "id": "5149727a",
   "metadata": {},
   "outputs": [],
   "source": [
    "number = 3\n",
    "\n",
    "if number % 2 == 0:\n",
    "    print(\"number if even\")\n",
    "else:\n",
    "    print(\"number is odd\")\n"
   ]
  },
  {
   "cell_type": "markdown",
   "id": "d169eb51",
   "metadata": {},
   "source": [
    "If there is more than one condition you want to check, you can add a number of `elif` statements between the `if` and `else` for each additional condition you might want to check."
   ]
  },
  {
   "cell_type": "code",
   "execution_count": null,
   "id": "15d5dd16",
   "metadata": {},
   "outputs": [],
   "source": [
    "number = -2\n",
    "\n",
    "if number > 0:\n",
    "    print(\"number is positive\")\n",
    "elif number < 0:\n",
    "    print(\"number is negative\")\n",
    "else:\n",
    "    print(\"number is zero\")"
   ]
  },
  {
   "cell_type": "markdown",
   "id": "1cb7e9af",
   "metadata": {},
   "source": [
    "The first statement that returns `True` will have its indented block of code executed."
   ]
  },
  {
   "cell_type": "markdown",
   "id": "b23d4818",
   "metadata": {},
   "source": [
    "## 7.3 Combining `if` and `for` loops\n",
    "\n",
    "It is possible to combine different loops together by “nesting” them. For example, you could have a `for` loop that iterated through a set of numbers and then an `if` statement within it that checked what the numbers are:"
   ]
  },
  {
   "cell_type": "code",
   "execution_count": null,
   "id": "6dbd134b",
   "metadata": {},
   "outputs": [],
   "source": [
    "for number in range(1, 20):\n",
    "    if number % 2 == 0:\n",
    "        print(\"number is even\")\n",
    "    else:\n",
    "        print(\"number is odd\")"
   ]
  },
  {
   "cell_type": "markdown",
   "id": "88625343",
   "metadata": {},
   "source": [
    "# 8. Imports\n",
    "\n",
    "To this point we have purely shown you how to use the basic bult-in methods and objects which are available in Python. As mentioned in `Python programming – what and why?` there are plenty of different extensions to Python which can be used to extend functionality and make your life easier.\n",
    "How to install and use them is beyond the scope of this tutorial, however it is worth briefly showing how extra methods could be imported into a python session using the `import` statement.\n"
   ]
  },
  {
   "cell_type": "markdown",
   "id": "9d117dde",
   "metadata": {},
   "source": [
    "## 8.1 Converting from degrees to radians\n",
    "\n",
    "The basic formalism for converting between degree angles to radians is:\n",
    "`radians = degrees * pi / 180.0`\n",
    "This can be easily done using the standard Python objects:"
   ]
  },
  {
   "cell_type": "code",
   "execution_count": null,
   "id": "1c4002e2",
   "metadata": {},
   "outputs": [],
   "source": [
    "degrees = 25\n",
    "radians = degrees * (3.141 / 180.0)\n",
    "print(radians)"
   ]
  },
  {
   "cell_type": "markdown",
   "id": "94f4de79",
   "metadata": {},
   "source": [
    "However the above code is rather unwieldy and would be quite annoying to have to rewrite every time we wanted to do this conversion. Instead the `math` library has a specific `radians` method which can help do this:"
   ]
  },
  {
   "cell_type": "code",
   "execution_count": null,
   "id": "3014f842",
   "metadata": {},
   "outputs": [],
   "source": [
    "import math\n",
    "print(math.radians(25))"
   ]
  },
  {
   "cell_type": "markdown",
   "id": "eca564de",
   "metadata": {},
   "source": [
    "## 8.2 A whole world of libraries\n",
    "\n",
    "As mentioned above there are many extensions to the base Python behaviour.\n",
    "The standard python distribution offers a limited amount of libraries, termed the \"standard library\", details about them can be found here: https://docs.python.org/3/library/\n",
    "\n",
    "This includes the above mentioned math libraries.\n",
    "\n",
    "Beyond the \"standard library\", there are also many amazing community driven packages, here is a non-exhaustive list of them:\n",
    "-\tNumPy (http://www.numpy.org/) and SciPy (https://www.scipy.org/) are excellent libraries that do a lot more that simple mathematical operations (like the Euclidean distance calculator above). These also interface very well with plotting libraries.\n",
    "\n",
    "-\tMatplotlib (https://matplotlib.org/) is the most commonly used plotting library available. It is simple, and can do a lot. Other plotting libraries, such as GGPlot (http://ggplot.yhathq.com/), SeaBorn (https://seaborn.pydata.org/), and Bokeh (https://bokeh.pydata.org/en/latest/).\n",
    "\n",
    "-\tPandas (https://pandas.pydata.org/) is a great library to manipulate data structures. Its ease of use makes it ideal to work with large data sets.\n",
    "\n",
    "-\tMDAnalysis (https://www.mdanalysis.org/), MDTraj (http://mdtraj.org/1.9.0/), and PyTraj (https://github.com/Amber-MD/pytraj), are some of the libraries used to process Molecular Dynamics trajcetories and other files. These interface very well with NumPy and Pandas and Matplotlib.\n",
    "\n",
    "-\tSciKit-Learn (http://scikit-learn.org/stable/) for machine learning in Python.\n",
    "\n",
    "-\tMPI4Py (http://mpi4py.readthedocs.io/en/stable/) allows Python scripts to be parallelised (run over multiple processors).\n",
    "\n",
    "-\tCython (http://cython.org/) allows you to write parts of your code in C/C++, making it very fast.\n",
    "\n",
    "Each library will have its means of directly installing them, however keeping track of various installs and avoiding clashes between libraries can be quite tedious. We instead recommend that a package manager like conda be used instead.\n",
    "See here for more details about conda: https://www.anaconda.com/distribution/"
   ]
  },
  {
   "cell_type": "markdown",
   "id": "a9c3db46",
   "metadata": {},
   "source": [
    "# 9. Review and tying it all back together\n",
    "\n",
    "In this tutorial we covered the following:\n",
    "1. The basic Python types; integers, floats, strings and booleans\n",
    "2. Arithmetic and relational operators\n",
    "3. Assigning variables\n",
    "4. Creating and using lists\n",
    "5. Using functions\n",
    "6. Using `for` loops\n",
    "7. Using `if` conditionals\n",
    "8. Importing extensions to Python\n",
    "Finally we tie most of what we have learnt together into one final question."
   ]
  },
  {
   "cell_type": "markdown",
   "id": "e2ba51e8",
   "metadata": {},
   "source": [
    "### Question 10\n",
    "\n",
    "Below is a string containing a sequence of single letter amino acids for a construct of Thrombin. Take this string, turn it into a list and count the number of glutamic acid residues which are present:\n",
    "\n",
    "Hint: You can increment a variable by 1 by doing `variable_name += 1`."
   ]
  },
  {
   "cell_type": "code",
   "execution_count": null,
   "id": "9beac1c8",
   "metadata": {},
   "outputs": [],
   "source": [
    "# Question 10\n",
    "\n",
    "sequence = \"IVEGSDAEIGMSPWQVMLFRKSPQELLCGASLISDRWVLTAAHCLLYPPWDKNFTENDLLVRIGKHSRTRYERNIEKISMLEKIYIHPRYNWRENLDRDIALMKLKKPVAFSDYIHPVCLPDRETAASLLQAGYKGRVTGWGNLKETWTANVGKGQPSVLQVVNLPIVERPVCKDSTRIRITDNMFCAGYKPDEGKRGDACEGDSGGPFVMKSPFNNRWYQMGIVSWGEGCDRDGKYGFYTHVFRLKKWIQKVIDQFGE\""
   ]
  },
  {
   "cell_type": "markdown",
   "id": "cd6ecfd1",
   "metadata": {},
   "source": [
    "# 10. Beyond this tutorial\n",
    "\n",
    "This tutorial has offered a very small view into the world of Python. Should you be interested in learning more about Python, the following tutorials might be of interest:\n",
    "\n",
    "1.\tThe oxford computational biochemistry Python course: https://github.com/bigginlab/OxCompBio/tree/master/tutorials/Python\n",
    "\n",
    "\n",
    "2.\tThe CodeAcademy Python tutorial: https://www.codecademy.com/learn/learn-python\n",
    "\n",
    "\n",
    "3.\tThe Carpentries Python workshop: https://swcarpentry.github.io/python-novice-inflammation/\n",
    "\n",
    "We would also suggest looking at how Python is used in practice to achieve real research goals. For example the following notebooks / workshops created by members of our lab might be of interest:\n",
    "\n",
    "1.\tCalculating binding free energies using the OpenMM / Open Free Energy framework: https://github.com/OpenFreeEnergy/ExampleNotebooks/blob/master/openmm-rbfe/OpenFE_showcase_1_RBFE_of_T4lysozyme.ipynb\n",
    "\n",
    "\n",
    "2.\tAnalysing simulations using the MDAnalysis framework: https://github.com/MDAnalysis/WorkshopPrace2021\n"
   ]
  },
  {
   "cell_type": "markdown",
   "id": "4d9f9482-9609-406b-89da-d175cad7ea0e",
   "metadata": {},
   "source": [
    "### 10.1 Plotting Simulated Data with Matplotlib\n",
    "\n",
    "Later in this practical series you will perform molecular dynamics (MD) simulations of the dimerisation of two alpha helices, Glycophorin A, within a phospholipid bilayer. MD simulations typically generate large data files that require careful post-processing to extract quantities of interest for your particular research question.\n",
    "\n",
    "There are many software tools out there that may be used to aid this post-processing, but a strong understanding of python and the ability to develop custom scripts that can extract these quantities of interest in a robust, automatable manner is indispensible to the efficient solution of more complicated research tasks.\n",
    "\n",
    "One vital part of this process is visualising the data generated during post-processing. The python package \"matplotlib\" provides a plotting tool \"pyplot\" that is the standard for visualising scientific data in python. It provides a wide variety of plotting modalities, including scatter plots, violin plots, density plots, histograms and 3D surface and volume plotting.\n",
    "\n",
    "Whilst beyond the scope of this current practical, we provide here a rudimentary introduction to using pyplot to generate graphs of the distance over time between two constituents of a biomolecular simulation for those with a particular interest.\n",
    "\n",
    "\n",
    "In this example we will look at the case of an antimicrobial peptide, Polymyxin B1 (PMB1), simulated in solution close to a phospholipid bilayer. We will plot the minimum distance between the centre of mass of PMB1 and either surface of the two leaflets of the phospholipid bilayer. We will use these plots to determine whether or not PMB1 has associated with the surface of the membrane in any of the simulations to which these datasets correspond.\n"
   ]
  },
  {
   "cell_type": "code",
   "execution_count": 1,
   "id": "e46b0a60-f9a9-4dd7-afff-93d5b85b7e35",
   "metadata": {},
   "outputs": [],
   "source": [
    "# import the plotting tool, pyplot, from the matplotlib library\n",
    "from matplotlib import pyplot\n",
    "\n",
    "# import numpy to specify linear spaced array of time values\n",
    "import numpy"
   ]
  },
  {
   "cell_type": "code",
   "execution_count": 2,
   "id": "ab33c066-7d62-4ace-85b0-225d89f6a974",
   "metadata": {},
   "outputs": [],
   "source": [
    "def import_data(filename : str):\n",
    "    \"\"\"\n",
    "    Reads a text file and extracts the third element (index 2) from each line, converting it to a float.\n",
    "\n",
    "    Parameters:\n",
    "        filename (str): The path to the text file to be read. Each line in the file is expected \n",
    "                        to contain whitespace-separated values, with at least three elements.\n",
    "                        \n",
    "    Returns:\n",
    "        list of float: A list containing the third element from each line, converted to float.\n",
    "    \"\"\"\n",
    "    \n",
    "    data = []\n",
    "    \n",
    "    with open(filename, 'r') as f:\n",
    "        lines = f.readlines()\n",
    "    \n",
    "    for line in lines:\n",
    "        data.append(float(line.split()[2]))\n",
    "    return data\n",
    "\n",
    "\n",
    "times = numpy.linspace(0,30000,100)\n",
    "\n",
    "# lists of distance data between polymyxin B1 and phospholipid bilayer \n",
    "# pmb_memb_CoMdist_1 = import_data('CoMdist1.dat')\n",
    "# pmb_memb_CoMdist_2 = import_data('CoMdist2.dat')\n",
    "# pmb_memb_CoMdist_3 = import_data('CoMdist3.dat')\n",
    "\n",
    "pmb_memb_CoMdist_1 = numpy.random.uniform(0,70,len(times))\n",
    "pmb_memb_CoMdist_2 = numpy.random.uniform(0,70,len(times))\n",
    "pmb_memb_CoMdist_3 = numpy.random.uniform(0,70,len(times))"
   ]
  },
  {
   "cell_type": "code",
   "execution_count": 6,
   "id": "711457a5-eba4-4b9c-8bb9-242233393c9b",
   "metadata": {},
   "outputs": [
    {
     "data": {
      "image/png": "[encoded data removed]",
      "text/plain": [
       "<Figure size 1400x1000 with 1 Axes>"
      ]
     },
     "metadata": {},
     "output_type": "display_data"
    }
   ],
   "source": [
    "fig, ax = pyplot.subplots(figsize=(14, 10))\n",
    "        \n",
    "\n",
    "ax.plot(times, pmb_memb_CoMdist_1, color='r', label='simulation 1')\n",
    "ax.plot(times, pmb_memb_CoMdist_2, color='b', label='simulation 2')\n",
    "ax.plot(times, pmb_memb_CoMdist_3, color='g', label='simulation 3')\n",
    "\n",
    "ax.legend()\n",
    "\n",
    "ax.set_xlabel(r'Simulation Time $(ps)$')\n",
    "ax.set_ylabel(r'PMB1-Membrane distance $(\\AA)$')\n",
    "\n",
    "pyplot.show()"
   ]
  },
  {
   "cell_type": "code",
   "execution_count": null,
   "id": "ebdd3349-4b80-4733-b6b9-8861db54aaca",
   "metadata": {},
   "outputs": [],
   "source": []
  }
 ],
 "metadata": {
  "kernelspec": {
   "display_name": "Python 3 (ipykernel)",
   "language": "python",
   "name": "python3"
  },
  "language_info": {
   "codemirror_mode": {
    "name": "ipython",
    "version": 3
   },
   "file_extension": ".py",
   "mimetype": "text/x-python",
   "name": "python",
   "nbconvert_exporter": "python",
   "pygments_lexer": "ipython3",
   "version": "3.10.12"
  }
 },
 "nbformat": 4,
 "nbformat_minor": 5
}
